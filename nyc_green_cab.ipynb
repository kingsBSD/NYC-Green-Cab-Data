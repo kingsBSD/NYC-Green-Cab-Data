{
 "cells": [
  {
   "cell_type": "code",
   "execution_count": null,
   "metadata": {
    "collapsed": false,
    "deletable": true,
    "editable": true
   },
   "outputs": [],
   "source": [
    "import os\n",
    "import re\n",
    "\n",
    "from pyspark.sql import SparkSession\n",
    "from pyspark.sql.functions import hour"
   ]
  },
  {
   "cell_type": "code",
   "execution_count": null,
   "metadata": {
    "collapsed": false,
    "deletable": true,
    "editable": true
   },
   "outputs": [],
   "source": [
    "spark = SparkSession.builder.appName(\"nyc-taxi\").getOrCreate()"
   ]
  },
  {
   "cell_type": "code",
   "execution_count": null,
   "metadata": {
    "collapsed": false,
    "deletable": true,
    "editable": true
   },
   "outputs": [],
   "source": [
    "def get_month_chunks(month, year='2015', path='/data'):\n",
    "    prefix = str(year) + '-'\n",
    "    digits = ('0' + str(month))[-2:]\n",
    "    return sorted([path+'/'+f for f in os.listdir(path) if re.findall(prefix+digits+'.csv.gz',f)])"
   ]
  },
  {
   "cell_type": "code",
   "execution_count": null,
   "metadata": {
    "collapsed": false,
    "deletable": true,
    "editable": true
   },
   "outputs": [],
   "source": [
    "get_month_chunks(1)"
   ]
  },
  {
   "cell_type": "code",
   "execution_count": null,
   "metadata": {
    "collapsed": false,
    "deletable": true,
    "editable": true
   },
   "outputs": [],
   "source": [
    "def get_chunk_df(f):\n",
    "    return spark.read.load(f, format='csv', header='true', inferSchema='true')"
   ]
  },
  {
   "cell_type": "code",
   "execution_count": null,
   "metadata": {
    "collapsed": false,
    "deletable": true,
    "editable": true
   },
   "outputs": [],
   "source": [
    "def get_month_df(month , year=2015):\n",
    "    chunks = get_month_chunks(month, year=year)\n",
    "    df = get_chunk_df(chunks[0])\n",
    "    for chunk in chunks[1:]:\n",
    "        df = df.union(get_chunk_df(chunk))\n",
    "    return df"
   ]
  },
  {
   "cell_type": "code",
   "execution_count": null,
   "metadata": {
    "collapsed": false,
    "deletable": true,
    "editable": true
   },
   "outputs": [],
   "source": [
    "def get_year_df(year=2015):\n",
    "    df = get_month_df(1, year=year)\n",
    "    for m in range(2,13):\n",
    "        df = df.union(get_month_df(m, year))\n",
    "    return df"
   ]
  },
  {
   "cell_type": "code",
   "execution_count": null,
   "metadata": {
    "collapsed": false,
    "deletable": true,
    "editable": true
   },
   "outputs": [],
   "source": [
    "january = get_month_df(1)"
   ]
  },
  {
   "cell_type": "code",
   "execution_count": null,
   "metadata": {
    "collapsed": false,
    "deletable": true,
    "editable": true
   },
   "outputs": [],
   "source": [
    "january.columns"
   ]
  },
  {
   "cell_type": "code",
   "execution_count": null,
   "metadata": {
    "collapsed": false,
    "deletable": true,
    "editable": true
   },
   "outputs": [],
   "source": [
    "january.count()"
   ]
  },
  {
   "cell_type": "code",
   "execution_count": null,
   "metadata": {
    "collapsed": false,
    "deletable": true,
    "editable": true
   },
   "outputs": [],
   "source": [
    "january_hourly_count = january.select(hour('lpep_pickup_datetime')).withColumnRenamed('hour(lpep_pickup_datetime)', \"hr\").groupby('hr').count()"
   ]
  },
  {
   "cell_type": "code",
   "execution_count": null,
   "metadata": {
    "collapsed": false
   },
   "outputs": [],
   "source": [
    "january_hours = january_hourly_count.orderBy('hr').collect()"
   ]
  },
  {
   "cell_type": "code",
   "execution_count": null,
   "metadata": {
    "collapsed": false
   },
   "outputs": [],
   "source": [
    "january_hours"
   ]
  },
  {
   "cell_type": "code",
   "execution_count": null,
   "metadata": {
    "collapsed": true,
    "deletable": true,
    "editable": true
   },
   "outputs": [],
   "source": [
    "jan_sample = january.select('Pickup_latitude','Pickup_longitude',\n",
    "    'Dropoff_latitude','Dropoff_longitude').sample(False,1.0/4000)"
   ]
  },
  {
   "cell_type": "code",
   "execution_count": null,
   "metadata": {
    "collapsed": false,
    "deletable": true,
    "editable": true
   },
   "outputs": [],
   "source": [
    "jan_sample.count()"
   ]
  },
  {
   "cell_type": "code",
   "execution_count": null,
   "metadata": {
    "collapsed": true,
    "deletable": true,
    "editable": true
   },
   "outputs": [],
   "source": [
    "sample_points = jan_sample.collect()"
   ]
  },
  {
   "cell_type": "code",
   "execution_count": null,
   "metadata": {
    "collapsed": true
   },
   "outputs": [],
   "source": [
    "gpickup = [[p.Pickup_latitude,p.Pickup_longitude] for p in sample_points]\n",
    "gdropoff = [[p.Dropoff_latitude,p.Dropoff_longitude] for p in sample_points]"
   ]
  },
  {
   "cell_type": "code",
   "execution_count": null,
   "metadata": {
    "collapsed": false
   },
   "outputs": [],
   "source": [
    "import statistics\n",
    "glattitudes = map(lambda p: p[0],gpickup+gdropoff)\n",
    "glongitudes = map(lambda p: p[1],gpickup+gdropoff)\n",
    "gcentre = [statistics.mean(glattitudes),statistics.mean(glongitudes)]"
   ]
  },
  {
   "cell_type": "code",
   "execution_count": null,
   "metadata": {
    "collapsed": false
   },
   "outputs": [],
   "source": [
    "import folium\n",
    "green_map = folium.Map(location=gcentre)\n",
    "for p in gpickup:\n",
    "    folium.CircleMarker(p ,fill_color='green',radius=5).add_to(green_map)\n",
    "for p in gdropoff:\n",
    "    folium.CircleMarker(p ,fill_color='blue',radius=5).add_to(green_map)       \n",
    "green_map"
   ]
  },
  {
   "cell_type": "code",
   "execution_count": null,
   "metadata": {
    "collapsed": true
   },
   "outputs": [],
   "source": [
    "from numpy import array\n",
    "january_rdd = january.select('Pickup_latitude','Pickup_longitude').rdd.map(list).map(array)"
   ]
  },
  {
   "cell_type": "code",
   "execution_count": null,
   "metadata": {
    "collapsed": true
   },
   "outputs": [],
   "source": [
    "from pyspark.mllib.clustering import KMeans\n",
    "\n",
    "cluster_sets = sc.parallelize([KMeans.train(january_rdd, k, maxIterations=10,initializationMode=\"random\")\n",
    "    for k in range(3,8)])"
   ]
  },
  {
   "cell_type": "code",
   "execution_count": null,
   "metadata": {
    "collapsed": true
   },
   "outputs": [],
   "source": [
    "def cluster_map(k):\n",
    "    centers = [list(c) for c in cluster_sets.collect()[k].centers if abs(sum(c)) > 0.1]\n",
    "    cmap = folium.Map(location=gcentre)\n",
    "    for p in centers:\n",
    "        folium.CircleMarker(p ,fill_color='green',radius=200).add_to(cmap)\n",
    "    return cmap"
   ]
  },
  {
   "cell_type": "code",
   "execution_count": null,
   "metadata": {
    "collapsed": true
   },
   "outputs": [],
   "source": [
    "cluster_map(4)"
   ]
  }
 ],
 "metadata": {
  "kernelspec": {
   "display_name": "Python 3",
   "language": "python",
   "name": "python3"
  },
  "language_info": {
   "codemirror_mode": {
    "name": "ipython",
    "version": 3
   },
   "file_extension": ".py",
   "mimetype": "text/x-python",
   "name": "python",
   "nbconvert_exporter": "python",
   "pygments_lexer": "ipython3",
   "version": "3.4.3"
  }
 },
 "nbformat": 4,
 "nbformat_minor": 2
}
